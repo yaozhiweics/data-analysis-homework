{
 "cells": [
  {
   "cell_type": "markdown",
   "metadata": {},
   "source": [
    "# 通用行情数据接口"
   ]
  },
  {
   "cell_type": "code",
   "execution_count": 1,
   "metadata": {
    "ExecuteTime": {
     "end_time": "2020-12-15T02:40:04.841555Z",
     "start_time": "2020-12-15T02:40:04.162543Z"
    }
   },
   "outputs": [],
   "source": [
    "import tushare as ts\n",
    "ts.set_token('{78fa404f3a53bb777bb4a8d744fbb1756ec66a32745140baf17c55d7}')#账号的token"
   ]
  },
  {
   "cell_type": "markdown",
   "metadata": {},
   "source": [
    "# 爬取20年内的基金数据"
   ]
  },
  {
   "cell_type": "markdown",
   "metadata": {},
   "source": [
    "### 生成日期列表"
   ]
  },
  {
   "cell_type": "code",
   "execution_count": 2,
   "metadata": {
    "ExecuteTime": {
     "end_time": "2020-12-15T02:50:05.664538Z",
     "start_time": "2020-12-15T02:50:05.653536Z"
    }
   },
   "outputs": [
    {
     "data": {
      "text/plain": [
       "['20210510',\n",
       " '20210509',\n",
       " '20210508',\n",
       " '20210507',\n",
       " '20210506',\n",
       " '20210505',\n",
       " '20210504',\n",
       " '20210503',\n",
       " '20210502',\n",
       " '20210501']"
      ]
     },
     "execution_count": 2,
     "metadata": {},
     "output_type": "execute_result"
    }
   ],
   "source": [
    "import datetime\n",
    "import time\n",
    "today = '2021-5-10'\n",
    "date_list = []\n",
    "time_tuple = time.strptime(today,\"%Y-%m-%d\")\n",
    "year,month,day = time_tuple[:3]\n",
    "for i in range(365*20):\n",
    "    date_list.append((datetime.date(year,month,day)-datetime.timedelta(days=i)).strftime(\"%Y%m%d\"))\n",
    "date_list[0:10]"
   ]
  },
  {
   "cell_type": "markdown",
   "metadata": {},
   "source": [
    "### 爬取数据"
   ]
  },
  {
   "cell_type": "code",
   "execution_count": 3,
   "metadata": {
    "ExecuteTime": {
     "end_time": "2020-12-15T02:57:33.854939Z",
     "start_time": "2020-12-15T02:51:28.846556Z"
    }
   },
   "outputs": [
    {
     "name": "stdout",
     "output_type": "stream",
     "text": [
      "爬取第20210131天数据，数据总长度为:62\n",
      "爬取第20201023天数据，数据总长度为:132\n",
      "爬取第20200715天数据，数据总长度为:198\n",
      "爬取第20200406天数据，数据总长度为:264\n",
      "爬取第20191228天数据，数据总长度为:327\n",
      "爬取第20190919天数据，数据总长度为:394\n",
      "爬取第20190611天数据，数据总长度为:465\n",
      "爬取第20190303天数据，数据总长度为:531\n",
      "爬取第20181123天数据，数据总长度为:595\n",
      "爬取第20180815天数据，数据总长度为:661\n",
      "爬取第20180507天数据，数据总长度为:732\n",
      "爬取第20180127天数据，数据总长度为:793\n",
      "爬取第20171019天数据，数据总长度为:864\n",
      "爬取第20170711天数据，数据总长度为:931\n",
      "爬取第20170402天数据，数据总长度为:997\n",
      "爬取第20161223天数据，数据总长度为:1062\n",
      "爬取第20160914天数据，数据总长度为:1127\n",
      "爬取第20160606天数据，数据总长度为:1197\n",
      "爬取第20160227天数据，数据总长度为:1265\n",
      "爬取第20151119天数据，数据总长度为:1331\n",
      "爬取第20150811天数据，数据总长度为:1396\n",
      "爬取第20150503天数据，数据总长度为:1466\n",
      "爬取第20150123天数据，数据总长度为:1530\n",
      "爬取第20141015天数据，数据总长度为:1600\n",
      "爬取第20140707天数据，数据总长度为:1666\n",
      "爬取第20140329天数据，数据总长度为:1732\n",
      "爬取第20131219天数据，数据总长度为:1798\n",
      "爬取第20130910天数据，数据总长度为:1863\n",
      "爬取第20130602天数据，数据总长度为:1931\n",
      "爬取第20130222天数据，数据总长度为:1997\n",
      "爬取第20121114天数据，数据总长度为:2061\n",
      "爬取第20120806天数据，数据总长度为:2128\n",
      "爬取第20120428天数据，数据总长度为:2195\n",
      "爬取第20120119天数据，数据总长度为:2259\n",
      "爬取第20111011天数据，数据总长度为:2329\n",
      "爬取第20110703天数据，数据总长度为:2394\n",
      "爬取第20110325天数据，数据总长度为:2461\n",
      "爬取第20101215天数据，数据总长度为:2527\n",
      "爬取第20100906天数据，数据总长度为:2591\n",
      "爬取第20100529天数据，数据总长度为:2658\n",
      "爬取第20100218天数据，数据总长度为:2726\n",
      "爬取第20091110天数据，数据总长度为:2794\n",
      "爬取第20090802天数据，数据总长度为:2859\n",
      "爬取第20090424天数据，数据总长度为:2927\n",
      "爬取第20090114天数据，数据总长度为:2993\n",
      "爬取第20081006天数据，数据总长度为:3063\n",
      "爬取第20080628天数据，数据总长度为:3127\n",
      "爬取第20080320天数据，数据总长度为:3195\n",
      "爬取第20071211天数据，数据总长度为:3260\n",
      "爬取第20070902天数据，数据总长度为:3326\n",
      "爬取第20070525天数据，数据总长度为:3397\n",
      "爬取第20070214天数据，数据总长度为:3459\n",
      "爬取第20061106天数据，数据总长度为:3528\n",
      "爬取第20060729天数据，数据总长度为:3593\n",
      "爬取第20060420天数据，数据总长度为:3660\n",
      "爬取第20060110天数据，数据总长度为:3725\n",
      "爬取第20051002天数据，数据总长度为:3789\n",
      "爬取第20050624天数据，数据总长度为:3860\n",
      "爬取第20050316天数据，数据总长度为:3927\n",
      "爬取第20041206天数据，数据总长度为:3942\n",
      "爬取第20040828天数据，数据总长度为:3942\n",
      "爬取第20040520天数据，数据总长度为:3942\n",
      "爬取第20040210天数据，数据总长度为:3942\n",
      "爬取第20031102天数据，数据总长度为:3942\n",
      "爬取第20030725天数据，数据总长度为:3942\n",
      "爬取第20030416天数据，数据总长度为:3942\n",
      "爬取第20030106天数据，数据总长度为:3942\n",
      "爬取第20020928天数据，数据总长度为:3942\n",
      "爬取第20020620天数据，数据总长度为:3942\n",
      "爬取第20020312天数据，数据总长度为:3942\n",
      "爬取第20011202天数据，数据总长度为:3942\n",
      "爬取第20010824天数据，数据总长度为:3942\n",
      "爬取第20010516天数据，数据总长度为:3942\n"
     ]
    }
   ],
   "source": [
    "import pandas as pd\n",
    "import time\n",
    "i = 0\n",
    "for date in date_list:\n",
    "    try:\n",
    "        pro = ts.pro_api('78fa404f3a53bb777bb4a8d744fbb1756ec66a32745140baf17c55d7')\n",
    "        time.sleep(0.75)\n",
    "        df = pro.fund_daily(ts_code = '510050.SH',trade_date = date,asset='FD')\n",
    "        if i == 0:\n",
    "            data = df\n",
    "            i+=1\n",
    "        else:\n",
    "            i+=1\n",
    "            data = pd.concat([data,df])\n",
    "        if i%100 == 0:\n",
    "            print('爬取第{}天数据，数据总长度为:{}'.format(date,len(data)))\n",
    "    except Exception as err:\n",
    "        print(err)\n",
    "        date_list.insert(0,date)\n",
    "        time.sleep(30)"
   ]
  },
  {
   "cell_type": "code",
   "execution_count": 8,
   "metadata": {
    "ExecuteTime": {
     "end_time": "2020-12-15T03:03:44.730317Z",
     "start_time": "2020-12-15T03:03:44.674321Z"
    }
   },
   "outputs": [
    {
     "data": {
      "text/html": [
       "<div>\n",
       "<style scoped>\n",
       "    .dataframe tbody tr th:only-of-type {\n",
       "        vertical-align: middle;\n",
       "    }\n",
       "\n",
       "    .dataframe tbody tr th {\n",
       "        vertical-align: top;\n",
       "    }\n",
       "\n",
       "    .dataframe thead th {\n",
       "        text-align: right;\n",
       "    }\n",
       "</style>\n",
       "<table border=\"1\" class=\"dataframe\">\n",
       "  <thead>\n",
       "    <tr style=\"text-align: right;\">\n",
       "      <th></th>\n",
       "      <th>ts_code</th>\n",
       "      <th>trade_date</th>\n",
       "      <th>pre_close</th>\n",
       "      <th>open</th>\n",
       "      <th>high</th>\n",
       "      <th>low</th>\n",
       "      <th>close</th>\n",
       "      <th>change</th>\n",
       "      <th>pct_chg</th>\n",
       "      <th>vol</th>\n",
       "      <th>amount</th>\n",
       "    </tr>\n",
       "  </thead>\n",
       "  <tbody>\n",
       "    <tr>\n",
       "      <th>0</th>\n",
       "      <td>510050.SH</td>\n",
       "      <td>20210510</td>\n",
       "      <td>3.399</td>\n",
       "      <td>3.417</td>\n",
       "      <td>3.417</td>\n",
       "      <td>3.362</td>\n",
       "      <td>3.399</td>\n",
       "      <td>0.000</td>\n",
       "      <td>0.0000</td>\n",
       "      <td>4780906.38</td>\n",
       "      <td>1619889.168</td>\n",
       "    </tr>\n",
       "    <tr>\n",
       "      <th>0</th>\n",
       "      <td>510050.SH</td>\n",
       "      <td>20210507</td>\n",
       "      <td>3.444</td>\n",
       "      <td>3.455</td>\n",
       "      <td>3.460</td>\n",
       "      <td>3.390</td>\n",
       "      <td>3.399</td>\n",
       "      <td>-0.045</td>\n",
       "      <td>-1.3066</td>\n",
       "      <td>4522384.41</td>\n",
       "      <td>1546822.837</td>\n",
       "    </tr>\n",
       "    <tr>\n",
       "      <th>0</th>\n",
       "      <td>510050.SH</td>\n",
       "      <td>20210506</td>\n",
       "      <td>3.482</td>\n",
       "      <td>3.462</td>\n",
       "      <td>3.508</td>\n",
       "      <td>3.432</td>\n",
       "      <td>3.444</td>\n",
       "      <td>-0.038</td>\n",
       "      <td>-1.0913</td>\n",
       "      <td>6658387.28</td>\n",
       "      <td>2309635.845</td>\n",
       "    </tr>\n",
       "    <tr>\n",
       "      <th>0</th>\n",
       "      <td>510050.SH</td>\n",
       "      <td>20210430</td>\n",
       "      <td>3.513</td>\n",
       "      <td>3.510</td>\n",
       "      <td>3.517</td>\n",
       "      <td>3.460</td>\n",
       "      <td>3.482</td>\n",
       "      <td>-0.031</td>\n",
       "      <td>-0.8824</td>\n",
       "      <td>7126829.01</td>\n",
       "      <td>2485156.707</td>\n",
       "    </tr>\n",
       "    <tr>\n",
       "      <th>0</th>\n",
       "      <td>510050.SH</td>\n",
       "      <td>20210429</td>\n",
       "      <td>3.467</td>\n",
       "      <td>3.476</td>\n",
       "      <td>3.515</td>\n",
       "      <td>3.463</td>\n",
       "      <td>3.513</td>\n",
       "      <td>0.046</td>\n",
       "      <td>1.3268</td>\n",
       "      <td>5186873.94</td>\n",
       "      <td>1814097.186</td>\n",
       "    </tr>\n",
       "    <tr>\n",
       "      <th>...</th>\n",
       "      <td>...</td>\n",
       "      <td>...</td>\n",
       "      <td>...</td>\n",
       "      <td>...</td>\n",
       "      <td>...</td>\n",
       "      <td>...</td>\n",
       "      <td>...</td>\n",
       "      <td>...</td>\n",
       "      <td>...</td>\n",
       "      <td>...</td>\n",
       "      <td>...</td>\n",
       "    </tr>\n",
       "    <tr>\n",
       "      <th>0</th>\n",
       "      <td>510050.SH</td>\n",
       "      <td>20050301</td>\n",
       "      <td>0.872</td>\n",
       "      <td>0.870</td>\n",
       "      <td>0.873</td>\n",
       "      <td>0.865</td>\n",
       "      <td>0.867</td>\n",
       "      <td>-0.005</td>\n",
       "      <td>-0.5734</td>\n",
       "      <td>2080944.56</td>\n",
       "      <td>180573.596</td>\n",
       "    </tr>\n",
       "    <tr>\n",
       "      <th>0</th>\n",
       "      <td>510050.SH</td>\n",
       "      <td>20050228</td>\n",
       "      <td>0.880</td>\n",
       "      <td>0.878</td>\n",
       "      <td>0.879</td>\n",
       "      <td>0.870</td>\n",
       "      <td>0.872</td>\n",
       "      <td>-0.008</td>\n",
       "      <td>-0.9091</td>\n",
       "      <td>1879651.93</td>\n",
       "      <td>164467.462</td>\n",
       "    </tr>\n",
       "    <tr>\n",
       "      <th>0</th>\n",
       "      <td>510050.SH</td>\n",
       "      <td>20050225</td>\n",
       "      <td>0.876</td>\n",
       "      <td>0.877</td>\n",
       "      <td>0.887</td>\n",
       "      <td>0.875</td>\n",
       "      <td>0.880</td>\n",
       "      <td>0.004</td>\n",
       "      <td>0.4566</td>\n",
       "      <td>5064606.95</td>\n",
       "      <td>446597.972</td>\n",
       "    </tr>\n",
       "    <tr>\n",
       "      <th>0</th>\n",
       "      <td>510050.SH</td>\n",
       "      <td>20050224</td>\n",
       "      <td>0.876</td>\n",
       "      <td>0.876</td>\n",
       "      <td>0.876</td>\n",
       "      <td>0.868</td>\n",
       "      <td>0.876</td>\n",
       "      <td>0.000</td>\n",
       "      <td>0.0000</td>\n",
       "      <td>4516142.23</td>\n",
       "      <td>394141.216</td>\n",
       "    </tr>\n",
       "    <tr>\n",
       "      <th>0</th>\n",
       "      <td>510050.SH</td>\n",
       "      <td>20050223</td>\n",
       "      <td>0.887</td>\n",
       "      <td>0.881</td>\n",
       "      <td>0.882</td>\n",
       "      <td>0.866</td>\n",
       "      <td>0.876</td>\n",
       "      <td>-0.011</td>\n",
       "      <td>-1.2401</td>\n",
       "      <td>12697425.42</td>\n",
       "      <td>1111793.167</td>\n",
       "    </tr>\n",
       "  </tbody>\n",
       "</table>\n",
       "<p>3942 rows × 11 columns</p>\n",
       "</div>"
      ],
      "text/plain": [
       "      ts_code trade_date  pre_close   open   high    low  close  change  \\\n",
       "0   510050.SH   20210510      3.399  3.417  3.417  3.362  3.399   0.000   \n",
       "0   510050.SH   20210507      3.444  3.455  3.460  3.390  3.399  -0.045   \n",
       "0   510050.SH   20210506      3.482  3.462  3.508  3.432  3.444  -0.038   \n",
       "0   510050.SH   20210430      3.513  3.510  3.517  3.460  3.482  -0.031   \n",
       "0   510050.SH   20210429      3.467  3.476  3.515  3.463  3.513   0.046   \n",
       "..        ...        ...        ...    ...    ...    ...    ...     ...   \n",
       "0   510050.SH   20050301      0.872  0.870  0.873  0.865  0.867  -0.005   \n",
       "0   510050.SH   20050228      0.880  0.878  0.879  0.870  0.872  -0.008   \n",
       "0   510050.SH   20050225      0.876  0.877  0.887  0.875  0.880   0.004   \n",
       "0   510050.SH   20050224      0.876  0.876  0.876  0.868  0.876   0.000   \n",
       "0   510050.SH   20050223      0.887  0.881  0.882  0.866  0.876  -0.011   \n",
       "\n",
       "    pct_chg          vol       amount  \n",
       "0    0.0000   4780906.38  1619889.168  \n",
       "0   -1.3066   4522384.41  1546822.837  \n",
       "0   -1.0913   6658387.28  2309635.845  \n",
       "0   -0.8824   7126829.01  2485156.707  \n",
       "0    1.3268   5186873.94  1814097.186  \n",
       "..      ...          ...          ...  \n",
       "0   -0.5734   2080944.56   180573.596  \n",
       "0   -0.9091   1879651.93   164467.462  \n",
       "0    0.4566   5064606.95   446597.972  \n",
       "0    0.0000   4516142.23   394141.216  \n",
       "0   -1.2401  12697425.42  1111793.167  \n",
       "\n",
       "[3942 rows x 11 columns]"
      ]
     },
     "execution_count": 8,
     "metadata": {},
     "output_type": "execute_result"
    }
   ],
   "source": [
    "data"
   ]
  },
  {
   "cell_type": "markdown",
   "metadata": {},
   "source": [
    "### 给数据增加标签列，1表示涨，0表示跌"
   ]
  },
  {
   "cell_type": "code",
   "execution_count": 9,
   "metadata": {
    "ExecuteTime": {
     "end_time": "2020-12-15T03:21:10.809796Z",
     "start_time": "2020-12-15T03:21:10.688766Z"
    }
   },
   "outputs": [],
   "source": [
    "data_sort = data.sort_values(['ts_code','trade_date'],ascending=['False','False'])"
   ]
  },
  {
   "cell_type": "code",
   "execution_count": 10,
   "metadata": {
    "ExecuteTime": {
     "end_time": "2020-12-15T03:36:23.040012Z",
     "start_time": "2020-12-15T03:36:23.020012Z"
    }
   },
   "outputs": [
    {
     "data": {
      "text/html": [
       "<div>\n",
       "<style scoped>\n",
       "    .dataframe tbody tr th:only-of-type {\n",
       "        vertical-align: middle;\n",
       "    }\n",
       "\n",
       "    .dataframe tbody tr th {\n",
       "        vertical-align: top;\n",
       "    }\n",
       "\n",
       "    .dataframe thead th {\n",
       "        text-align: right;\n",
       "    }\n",
       "</style>\n",
       "<table border=\"1\" class=\"dataframe\">\n",
       "  <thead>\n",
       "    <tr style=\"text-align: right;\">\n",
       "      <th></th>\n",
       "      <th>ts_code</th>\n",
       "      <th>trade_date</th>\n",
       "      <th>pre_close</th>\n",
       "      <th>open</th>\n",
       "      <th>high</th>\n",
       "      <th>low</th>\n",
       "      <th>close</th>\n",
       "      <th>change</th>\n",
       "      <th>pct_chg</th>\n",
       "      <th>vol</th>\n",
       "      <th>amount</th>\n",
       "      <th>label</th>\n",
       "    </tr>\n",
       "  </thead>\n",
       "  <tbody>\n",
       "    <tr>\n",
       "      <th>0</th>\n",
       "      <td>510050.SH</td>\n",
       "      <td>20050223</td>\n",
       "      <td>0.887</td>\n",
       "      <td>0.881</td>\n",
       "      <td>0.882</td>\n",
       "      <td>0.866</td>\n",
       "      <td>0.876</td>\n",
       "      <td>-0.011</td>\n",
       "      <td>-1.2401</td>\n",
       "      <td>12697425.42</td>\n",
       "      <td>1111793.167</td>\n",
       "      <td>False</td>\n",
       "    </tr>\n",
       "    <tr>\n",
       "      <th>0</th>\n",
       "      <td>510050.SH</td>\n",
       "      <td>20050224</td>\n",
       "      <td>0.876</td>\n",
       "      <td>0.876</td>\n",
       "      <td>0.876</td>\n",
       "      <td>0.868</td>\n",
       "      <td>0.876</td>\n",
       "      <td>0.000</td>\n",
       "      <td>0.0000</td>\n",
       "      <td>4516142.23</td>\n",
       "      <td>394141.216</td>\n",
       "      <td>True</td>\n",
       "    </tr>\n",
       "    <tr>\n",
       "      <th>0</th>\n",
       "      <td>510050.SH</td>\n",
       "      <td>20050225</td>\n",
       "      <td>0.876</td>\n",
       "      <td>0.877</td>\n",
       "      <td>0.887</td>\n",
       "      <td>0.875</td>\n",
       "      <td>0.880</td>\n",
       "      <td>0.004</td>\n",
       "      <td>0.4566</td>\n",
       "      <td>5064606.95</td>\n",
       "      <td>446597.972</td>\n",
       "      <td>True</td>\n",
       "    </tr>\n",
       "    <tr>\n",
       "      <th>0</th>\n",
       "      <td>510050.SH</td>\n",
       "      <td>20050228</td>\n",
       "      <td>0.880</td>\n",
       "      <td>0.878</td>\n",
       "      <td>0.879</td>\n",
       "      <td>0.870</td>\n",
       "      <td>0.872</td>\n",
       "      <td>-0.008</td>\n",
       "      <td>-0.9091</td>\n",
       "      <td>1879651.93</td>\n",
       "      <td>164467.462</td>\n",
       "      <td>False</td>\n",
       "    </tr>\n",
       "    <tr>\n",
       "      <th>0</th>\n",
       "      <td>510050.SH</td>\n",
       "      <td>20050301</td>\n",
       "      <td>0.872</td>\n",
       "      <td>0.870</td>\n",
       "      <td>0.873</td>\n",
       "      <td>0.865</td>\n",
       "      <td>0.867</td>\n",
       "      <td>-0.005</td>\n",
       "      <td>-0.5734</td>\n",
       "      <td>2080944.56</td>\n",
       "      <td>180573.596</td>\n",
       "      <td>False</td>\n",
       "    </tr>\n",
       "  </tbody>\n",
       "</table>\n",
       "</div>"
      ],
      "text/plain": [
       "     ts_code trade_date  pre_close   open   high    low  close  change  \\\n",
       "0  510050.SH   20050223      0.887  0.881  0.882  0.866  0.876  -0.011   \n",
       "0  510050.SH   20050224      0.876  0.876  0.876  0.868  0.876   0.000   \n",
       "0  510050.SH   20050225      0.876  0.877  0.887  0.875  0.880   0.004   \n",
       "0  510050.SH   20050228      0.880  0.878  0.879  0.870  0.872  -0.008   \n",
       "0  510050.SH   20050301      0.872  0.870  0.873  0.865  0.867  -0.005   \n",
       "\n",
       "   pct_chg          vol       amount  label  \n",
       "0  -1.2401  12697425.42  1111793.167  False  \n",
       "0   0.0000   4516142.23   394141.216   True  \n",
       "0   0.4566   5064606.95   446597.972   True  \n",
       "0  -0.9091   1879651.93   164467.462  False  \n",
       "0  -0.5734   2080944.56   180573.596  False  "
      ]
     },
     "execution_count": 10,
     "metadata": {},
     "output_type": "execute_result"
    }
   ],
   "source": [
    "label = data_sort['pre_close']<=data_sort['close']\n",
    "data_sort['label'] = label\n",
    "data_sort.head()"
   ]
  },
  {
   "cell_type": "code",
   "execution_count": 11,
   "metadata": {
    "ExecuteTime": {
     "end_time": "2020-12-15T03:36:30.911032Z",
     "start_time": "2020-12-15T03:36:28.944011Z"
    }
   },
   "outputs": [],
   "source": [
    "data_sort.to_csv('20_year_FD.csv',index = False)"
   ]
  },
  {
   "cell_type": "code",
   "execution_count": null,
   "metadata": {},
   "outputs": [],
   "source": []
  }
 ],
 "metadata": {
  "kernelspec": {
   "display_name": "Python 3",
   "language": "python",
   "name": "python3"
  },
  "language_info": {
   "codemirror_mode": {
    "name": "ipython",
    "version": 3
   },
   "file_extension": ".py",
   "mimetype": "text/x-python",
   "name": "python",
   "nbconvert_exporter": "python",
   "pygments_lexer": "ipython3",
   "version": "3.6.12"
  },
  "varInspector": {
   "cols": {
    "lenName": 16,
    "lenType": 16,
    "lenVar": 40
   },
   "kernels_config": {
    "python": {
     "delete_cmd_postfix": "",
     "delete_cmd_prefix": "del ",
     "library": "var_list.py",
     "varRefreshCmd": "print(var_dic_list())"
    },
    "r": {
     "delete_cmd_postfix": ") ",
     "delete_cmd_prefix": "rm(",
     "library": "var_list.r",
     "varRefreshCmd": "cat(var_dic_list()) "
    }
   },
   "types_to_exclude": [
    "module",
    "function",
    "builtin_function_or_method",
    "instance",
    "_Feature"
   ],
   "window_display": false
  }
 },
 "nbformat": 4,
 "nbformat_minor": 4
}
